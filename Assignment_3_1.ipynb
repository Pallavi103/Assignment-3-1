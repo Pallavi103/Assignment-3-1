{
 "cells": [
  {
   "cell_type": "code",
   "execution_count": null,
   "id": "cf887e85-c6c0-414d-a054-eaa130259475",
   "metadata": {},
   "outputs": [],
   "source": [
    "Q1. Which keyword is used to create a function? Create a function to return a list of odd numbers in the\n",
    "range of 1 to 25."
   ]
  },
  {
   "cell_type": "code",
   "execution_count": 2,
   "id": "d956041a-f6a6-4192-9354-1468af1ec889",
   "metadata": {},
   "outputs": [
    {
     "name": "stdout",
     "output_type": "stream",
     "text": [
      "[1, 3, 5, 7, 9, 11, 13, 15, 17, 19, 21, 23, 25]\n"
     ]
    }
   ],
   "source": [
    "#'def' keyword is used to create a function.\n",
    "\n",
    "\n",
    "def odd_numbers():\n",
    "    numbers = []\n",
    "    for number in range(1, 26):\n",
    "        if number % 2 != 0:\n",
    "            numbers.append(number)\n",
    "    return numbers\n",
    "\n",
    "# Call the function\n",
    "result = odd_numbers()\n",
    "print(result)\n"
   ]
  },
  {
   "cell_type": "code",
   "execution_count": 4,
   "id": "1b4b8985-66f2-4724-a541-2bcbb28aab63",
   "metadata": {},
   "outputs": [
    {
     "name": "stdout",
     "output_type": "stream",
     "text": [
      "1\n",
      "2\n",
      "3\n",
      "4\n",
      "5\n"
     ]
    }
   ],
   "source": [
    "# Q2. Why *args and **kwargs is used in some functions? Create a function each for *args and **kwargs\n",
    "# to demonstrate their use.\n",
    "\n",
    "# *args and **kwargs are used in function definitions to allow for a variable number of arguments to be passed to \n",
    "# the function.\n",
    "\n",
    "# The *args parameter allows you to pass a variable number of non-keyword arguments to a function. \n",
    "# It collects all the positional arguments passed to the function into a tuple. \n",
    "\n",
    "#Ex-\n",
    "def my_function(*args):\n",
    "    for arg in args:\n",
    "        print(arg)\n",
    "\n",
    "my_function(1, 2, 3, 4, 5)\n"
   ]
  },
  {
   "cell_type": "code",
   "execution_count": 5,
   "id": "2799426f-21c0-4863-a246-b9f1c90d6ca1",
   "metadata": {},
   "outputs": [
    {
     "name": "stdout",
     "output_type": "stream",
     "text": [
      "name Pallavi\n",
      "country IND\n",
      "Assignment 3\n"
     ]
    }
   ],
   "source": [
    "# The **kwargs parameter allows you to pass a variable number of keyword arguments to a function. \n",
    "# It collects all the keyword arguments passed to the function into a dictionary.\n",
    "\n",
    "\n",
    "def my_function(**kwargs):\n",
    "    for key, value in kwargs.items():\n",
    "        print(key, value)\n",
    "\n",
    "my_function(name='Pallavi', country='IND', Assignment=3)"
   ]
  },
  {
   "cell_type": "code",
   "execution_count": null,
   "id": "fcc379c0-14ae-460f-ad3c-338e1dc221bd",
   "metadata": {},
   "outputs": [],
   "source": [
    "Q3. What is an iterator in python? Name the method used to initialise the iterator object and the method\n",
    "used for iteration. Use these methods to print the first five elements of the given list [2, 4, 6, 8, 10, 12, 14,\n",
    "16, 18, 20].\n",
    "\n",
    "An iterator is an object that implements the iterator protocol, which consists of the __iter__ method and the __next__ method.\n",
    "Iterators are used to iterate over a sequence of elements one at a time, providing a convenient way to access and\n",
    "process the elements of a collection or generate values on the fly.\n",
    "\n",
    "The __iter__ method is used to initialize an iterator object. It returns the iterator object itself and\n",
    "is responsible for setting up any necessary state or variables.\n",
    "\n",
    "The __next__ method is used for iteration. It returns the next element from the iterator. \n",
    "If there are no more elements, it raises the StopIteration exception."
   ]
  },
  {
   "cell_type": "code",
   "execution_count": 1,
   "id": "450ef0bd-09fc-4ae4-9e2f-f4dbc7a8f35a",
   "metadata": {},
   "outputs": [
    {
     "name": "stdout",
     "output_type": "stream",
     "text": [
      "2\n",
      "4\n",
      "6\n",
      "8\n",
      "10\n"
     ]
    }
   ],
   "source": [
    "my_list = [2, 4, 6, 8, 10, 12, 14, 16, 18, 20]\n",
    "\n",
    "# Create an iterator object\n",
    "my_iterator = iter(my_list)\n",
    "\n",
    "# Print the first five elements\n",
    "for _ in range(5):\n",
    "    element = next(my_iterator)\n",
    "    print(element)\n"
   ]
  },
  {
   "cell_type": "code",
   "execution_count": null,
   "id": "048499d0-e48b-4663-80df-2baf34babc22",
   "metadata": {},
   "outputs": [],
   "source": [
    "Q4. What is a generator function in python? Why yield keyword is used? Give an example of a generator\n",
    "function.\n",
    "\n",
    "generator function is a special type of function that uses the yield keyword instead of return to return a sequence \n",
    "of values. When a generator function is called, it returns a generator object, which can be iterated over to produce\n",
    "a series of values, one at a time, on-demand. This allows for the generation of a sequence of values without \n",
    "the need to store them all in memory at once.\n",
    "\n",
    "The yield keyword is used in a generator function to define the points at which the generator will pause its execution\n",
    "and yield a value. When the generator is iterated over and the yield statement is encountered, the value is returned,\n",
    "and the generator state is saved. The next time the generator is iterated over,\n",
    "it resumes execution from where it left off, continuing with the next iteration."
   ]
  },
  {
   "cell_type": "code",
   "execution_count": 2,
   "id": "5f1eea4b-ee7c-4aa0-8680-7c429ffadf44",
   "metadata": {},
   "outputs": [
    {
     "name": "stdout",
     "output_type": "stream",
     "text": [
      "0\n",
      "2\n",
      "4\n",
      "6\n",
      "8\n"
     ]
    }
   ],
   "source": [
    "def even_numbers():\n",
    "    num = 0\n",
    "    while True:\n",
    "        yield num\n",
    "        num += 2\n",
    "\n",
    "# Create a generator object\n",
    "evens = even_numbers()\n",
    "\n",
    "# Print the first five even numbers\n",
    "for _ in range(5):\n",
    "    print(next(evens))\n"
   ]
  },
  {
   "cell_type": "code",
   "execution_count": null,
   "id": "3c3a0a18-44c1-4b14-ac66-5d0a6a0ee170",
   "metadata": {},
   "outputs": [],
   "source": [
    "Q5. Create a generator function for prime numbers less than 1000. Use the next() method to print the\n",
    "first 20 prime numbers.\n"
   ]
  },
  {
   "cell_type": "code",
   "execution_count": 3,
   "id": "8806b5a7-0534-4f5d-bb65-e2d0768c171d",
   "metadata": {},
   "outputs": [
    {
     "name": "stdout",
     "output_type": "stream",
     "text": [
      "2\n",
      "3\n",
      "5\n",
      "7\n",
      "11\n",
      "13\n",
      "17\n",
      "19\n",
      "23\n",
      "29\n",
      "31\n",
      "37\n",
      "41\n",
      "43\n",
      "47\n",
      "53\n",
      "59\n",
      "61\n",
      "67\n",
      "71\n"
     ]
    }
   ],
   "source": [
    "def prime_generator():\n",
    "    num = 2\n",
    "    primes = []\n",
    "    while True:\n",
    "        is_prime = True\n",
    "        for prime in primes:\n",
    "            if num % prime == 0:\n",
    "                is_prime = False\n",
    "                break\n",
    "        if is_prime:\n",
    "            primes.append(num)\n",
    "            yield num\n",
    "        num += 1\n",
    "\n",
    "# Create a generator object\n",
    "primes = prime_generator()\n",
    "\n",
    "# Print the first 20 prime numbers\n",
    "for _ in range(20):\n",
    "    prime = next(primes)\n",
    "    print(prime)"
   ]
  },
  {
   "cell_type": "code",
   "execution_count": null,
   "id": "9c00a78f-47ea-4baf-abd7-4c2c499df7b8",
   "metadata": {},
   "outputs": [],
   "source": [
    "Q6. Write a python program to print the first 10 Fibonacci numbers using a while loop."
   ]
  },
  {
   "cell_type": "code",
   "execution_count": 1,
   "id": "d662a2eb-11f4-499d-b0f9-b08f721496ed",
   "metadata": {},
   "outputs": [
    {
     "name": "stdout",
     "output_type": "stream",
     "text": [
      "0 1 1 2 3 5 8 13 21 34 "
     ]
    }
   ],
   "source": [
    "# Function to print the first 10 Fibonacci numbers\n",
    "def print_fibonacci():\n",
    "    # Initialize the first two numbers in the sequence\n",
    "    num1, num2 = 0, 1\n",
    "    \n",
    "    # Counter variable to keep track of the number of Fibonacci numbers printed\n",
    "    count = 0\n",
    "    \n",
    "    # Print the first 10 Fibonacci numbers\n",
    "    while count < 10:\n",
    "        print(num1, end=\" \")\n",
    "        \n",
    "        # Update the Fibonacci sequence\n",
    "        num1, num2 = num2, num1 + num2\n",
    "        \n",
    "        # Increment the counter\n",
    "        count += 1\n",
    "\n",
    "# Call the function to print the Fibonacci numbers\n",
    "print_fibonacci()\n"
   ]
  },
  {
   "cell_type": "code",
   "execution_count": null,
   "id": "949abc7f-69a9-431f-a37d-691a60b68c43",
   "metadata": {},
   "outputs": [],
   "source": [
    "Q7. Write a List Comprehension to iterate through the given string: ‘pwskills’.\n",
    "Expected output: ['p', 'w', 's', 'k', 'i', 'l', 'l', 's']"
   ]
  },
  {
   "cell_type": "code",
   "execution_count": 2,
   "id": "7842f39c-18ff-4b6e-880b-d8f6fcb7a23e",
   "metadata": {},
   "outputs": [
    {
     "name": "stdout",
     "output_type": "stream",
     "text": [
      "['p', 'w', 's', 'k', 'i', 'l', 'l', 's']\n"
     ]
    }
   ],
   "source": [
    "string = 'pwskills'\n",
    "result = [char for char in string if char in 'pwskills']\n",
    "print(result)"
   ]
  },
  {
   "cell_type": "code",
   "execution_count": null,
   "id": "05ec14a6-24da-43cf-9741-b3845d6cff9b",
   "metadata": {},
   "outputs": [],
   "source": [
    "Q8. Write a python program to check whether a given number is Palindrome or not using a while loop."
   ]
  },
  {
   "cell_type": "code",
   "execution_count": 5,
   "id": "3b0350dd-706f-47b8-b8cf-1063f13b7d42",
   "metadata": {},
   "outputs": [
    {
     "name": "stdin",
     "output_type": "stream",
     "text": [
      "Enter a number:  101\n"
     ]
    },
    {
     "name": "stdout",
     "output_type": "stream",
     "text": [
      "101 is a palindrome.\n"
     ]
    }
   ],
   "source": [
    "def is_palindrome(number):\n",
    "    # Store the original number\n",
    "    original_number = number\n",
    "    \n",
    "    # Variables to store the reverse of the number and the digit being processed\n",
    "    reverse_number = 0\n",
    "    current_digit = 0\n",
    "    \n",
    "    # Reverse the number using a while loop\n",
    "    while number > 0:\n",
    "        # Get the last digit of the number\n",
    "        current_digit = number % 10\n",
    "        \n",
    "        # Append the current digit to the reverse number\n",
    "        reverse_number = (reverse_number * 10) + current_digit\n",
    "        \n",
    "        # Remove the last digit from the number\n",
    "        number = number // 10\n",
    "    \n",
    "    # Check if the original number is equal to the reverse number\n",
    "    if original_number == reverse_number:\n",
    "        return True\n",
    "    else:\n",
    "        return False\n",
    "\n",
    "\n",
    "# Test the function\n",
    "number = int(input(\"Enter a number: \"))\n",
    "\n",
    "if is_palindrome(number):\n",
    "    print(number, \"is a palindrome.\")\n",
    "else:\n",
    "    print(number, \"is not a palindrome.\")\n"
   ]
  },
  {
   "cell_type": "code",
   "execution_count": null,
   "id": "6260adb9-a5a7-40ee-ad27-9da73d3d89de",
   "metadata": {},
   "outputs": [],
   "source": [
    "Q9. Write a code to print odd numbers from 1 to 100 using list comprehension.\n",
    "Note: Use a list comprehension to create a list from 1 to 100 and use another List comprehension to filter\n",
    "out odd numbers."
   ]
  },
  {
   "cell_type": "code",
   "execution_count": null,
   "id": "0f3ddb31-edf1-49d0-96ec-98cb28fdee71",
   "metadata": {},
   "outputs": [],
   "source": []
  },
  {
   "cell_type": "code",
   "execution_count": null,
   "id": "f7bcb9df-f609-48ed-9ff5-cff996c50943",
   "metadata": {},
   "outputs": [],
   "source": []
  }
 ],
 "metadata": {
  "kernelspec": {
   "display_name": "Python 3 (ipykernel)",
   "language": "python",
   "name": "python3"
  },
  "language_info": {
   "codemirror_mode": {
    "name": "ipython",
    "version": 3
   },
   "file_extension": ".py",
   "mimetype": "text/x-python",
   "name": "python",
   "nbconvert_exporter": "python",
   "pygments_lexer": "ipython3",
   "version": "3.10.8"
  }
 },
 "nbformat": 4,
 "nbformat_minor": 5
}
